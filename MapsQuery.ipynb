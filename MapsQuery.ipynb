{
 "cells": [
  {
   "cell_type": "code",
   "execution_count": 1,
   "metadata": {},
   "outputs": [],
   "source": [
    "import pandas\n",
    "import requests"
   ]
  },
  {
   "cell_type": "code",
   "execution_count": 2,
   "metadata": {},
   "outputs": [],
   "source": [
    "url = \"http://open.mapquestapi.com/geocoding/v1/address?\"\n",
    "KEY = \"KEY HERE\""
   ]
  },
  {
   "cell_type": "code",
   "execution_count": 3,
   "metadata": {},
   "outputs": [],
   "source": [
    "query = f\"{url}key={KEY}&location=48073\""
   ]
  },
  {
   "cell_type": "code",
   "execution_count": 4,
   "metadata": {},
   "outputs": [],
   "source": [
    "response = requests.get(query)\n",
    "json = response.json()"
   ]
  },
  {
   "cell_type": "code",
   "execution_count": 5,
   "metadata": {},
   "outputs": [
    {
     "data": {
      "text/plain": [
       "{'info': {'statuscode': 0,\n",
       "  'copyright': {'text': '© 2020 MapQuest, Inc.',\n",
       "   'imageUrl': 'http://api.mqcdn.com/res/mqlogo.gif',\n",
       "   'imageAltText': '© 2020 MapQuest, Inc.'},\n",
       "  'messages': []},\n",
       " 'options': {'maxResults': -1, 'thumbMaps': True, 'ignoreLatLngInput': False},\n",
       " 'results': [{'providedLocation': {'location': '48073'},\n",
       "   'locations': [{'street': '',\n",
       "     'adminArea6': '',\n",
       "     'adminArea6Type': 'Neighborhood',\n",
       "     'adminArea5': 'Royal Oak',\n",
       "     'adminArea5Type': 'City',\n",
       "     'adminArea4': '',\n",
       "     'adminArea4Type': 'County',\n",
       "     'adminArea3': 'MI',\n",
       "     'adminArea3Type': 'State',\n",
       "     'adminArea1': 'US',\n",
       "     'adminArea1Type': 'Country',\n",
       "     'postalCode': '48073',\n",
       "     'geocodeQualityCode': 'Z1XXA',\n",
       "     'geocodeQuality': 'ZIP',\n",
       "     'dragPoint': False,\n",
       "     'sideOfStreet': 'N',\n",
       "     'linkId': '0',\n",
       "     'unknownInput': '',\n",
       "     'type': 's',\n",
       "     'latLng': {'lat': 42.510516, 'lng': -83.16537},\n",
       "     'displayLatLng': {'lat': 42.510516, 'lng': -83.16537},\n",
       "     'mapUrl': 'http://open.mapquestapi.com/staticmap/v5/map?key=eu1S0IE75YIGir4BhwfWPEcVyPwfip96&type=map&size=225,160&locations=42.5105162220788,-83.1653696123607|marker-sm-50318A-1&scalebar=true&zoom=15&rand=1684177022'}]}]}"
      ]
     },
     "execution_count": 5,
     "metadata": {},
     "output_type": "execute_result"
    }
   ],
   "source": [
    "json"
   ]
  },
  {
   "cell_type": "code",
   "execution_count": 15,
   "metadata": {},
   "outputs": [],
   "source": [
    "latitude = json[\"results\"][0][\"locations\"][0][\"latLng\"][\"lat\"]\n",
    "longitude = json[\"results\"][0][\"locations\"][0][\"latLng\"][\"lng\"]"
   ]
  },
  {
   "cell_type": "code",
   "execution_count": 16,
   "metadata": {},
   "outputs": [
    {
     "data": {
      "text/plain": [
       "42.510516"
      ]
     },
     "execution_count": 16,
     "metadata": {},
     "output_type": "execute_result"
    }
   ],
   "source": [
    "latitude"
   ]
  },
  {
   "cell_type": "code",
   "execution_count": 17,
   "metadata": {},
   "outputs": [
    {
     "data": {
      "text/plain": [
       "-83.16537"
      ]
     },
     "execution_count": 17,
     "metadata": {},
     "output_type": "execute_result"
    }
   ],
   "source": [
    "longitude"
   ]
  },
  {
   "cell_type": "code",
   "execution_count": null,
   "metadata": {},
   "outputs": [],
   "source": []
  }
 ],
 "metadata": {
  "kernelspec": {
   "display_name": "Python 3",
   "language": "python",
   "name": "python3"
  },
  "language_info": {
   "codemirror_mode": {
    "name": "ipython",
    "version": 3
   },
   "file_extension": ".py",
   "mimetype": "text/x-python",
   "name": "python",
   "nbconvert_exporter": "python",
   "pygments_lexer": "ipython3",
   "version": "3.7.4"
  }
 },
 "nbformat": 4,
 "nbformat_minor": 2
}
